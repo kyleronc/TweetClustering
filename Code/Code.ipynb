{
 "cells": [
  {
   "cell_type": "code",
   "execution_count": 18,
   "id": "0607f5b9",
   "metadata": {},
   "outputs": [],
   "source": [
    "import numpy as np\n",
    "import pandas as pd\n",
    "from sklearn.feature_extraction.text import CountVectorizer\n",
    "from sklearn.metrics import pairwise_distances\n",
    "from scipy.spatial.distance import cosine"
   ]
  },
  {
   "cell_type": "code",
   "execution_count": 3,
   "id": "ff45e7d0",
   "metadata": {},
   "outputs": [],
   "source": [
    "## get tweets from our repo\n",
    "data = pd.read_csv(r\"../inputdata/cnnhealth.txt\", sep=\"|\", header=None, on_bad_lines='skip')"
   ]
  },
  {
   "cell_type": "code",
   "execution_count": 4,
   "id": "930e3c2c",
   "metadata": {},
   "outputs": [
    {
     "name": "stdout",
     "output_type": "stream",
     "text": [
      "Data in its unedited state: \n",
      "                       0                               1  \\\n",
      "0     576880531301801984  Sat Mar 14 23:00:11 +0000 2015   \n",
      "1     576820122666471424  Sat Mar 14 19:00:08 +0000 2015   \n",
      "2     576744652717461504  Sat Mar 14 14:00:15 +0000 2015   \n",
      "3     576736754436304896  Sat Mar 14 13:28:52 +0000 2015   \n",
      "4     576736614766010368  Sat Mar 14 13:28:18 +0000 2015   \n",
      "...                  ...                             ...   \n",
      "4040  239699936671854593  Sun Aug 26 12:24:52 +0000 2012   \n",
      "4041  239504620710420480  Sat Aug 25 23:28:46 +0000 2012   \n",
      "4042  239410205757145088  Sat Aug 25 17:13:35 +0000 2012   \n",
      "4043  239386320416428032  Sat Aug 25 15:38:41 +0000 2012   \n",
      "4044  239366825018806272  Sat Aug 25 14:21:12 +0000 2012   \n",
      "\n",
      "                                                      2  \n",
      "0     An abundance of online info can turn us into e...  \n",
      "1     A plant-based diet that incorporates fish may ...  \n",
      "2     It doesn't take much to damage your hearing at...  \n",
      "3     RT @CNN: Forever young? Discover this island’s...  \n",
      "4     RT @CNN: Is post-traumatic stress disorder in ...  \n",
      "...                                                 ...  \n",
      "4040  RT @EverydayHealth: Want killer abs? @JillianM...  \n",
      "4041  Medicare at stake -- @sanjayguptaCNN talks abo...  \n",
      "4042  Ann Romney talks about her experience with MS ...  \n",
      "4043  Make sure your first marathon isn't your last!...  \n",
      "4044  Robin Roberts' cancer diagnosis http://at.cnn....  \n",
      "\n",
      "[4045 rows x 3 columns]\n"
     ]
    }
   ],
   "source": [
    "print(\"Data in its unedited state: \")\n",
    "print(data)"
   ]
  },
  {
   "cell_type": "code",
   "execution_count": 5,
   "id": "11977f16",
   "metadata": {},
   "outputs": [],
   "source": [
    "## Removing urls from our tweets. One potential way to remove non-meaningful information such as server locations from the url\n",
    "## path. Another potential method could be adding appearance thresholds for certain words i.e. if B8VAgxHCYAETD6L.jpg does not\n",
    "## appear more than once, then remove it from our pool. There may be some meaningful information lost when removing the\n",
    "## url. Nearly all tweets have embedded links for cnn.com, so keeping those will not help us better classify/differentiate the\n",
    "## tweets. However, some are for pbs, instagram, etc. so could prove meaningful as a differentiator for clustering.\n",
    "data[2] = data[2].replace('(https?:\\/\\/)(?:([^\\n ]*))?', '', regex=True)"
   ]
  },
  {
   "cell_type": "code",
   "execution_count": 6,
   "id": "1ee64ef2",
   "metadata": {},
   "outputs": [],
   "source": [
    "## Take tweets column from dataframa and convert it to an array so we can preform vector operations on it\n",
    "tweets = data[2].to_numpy()"
   ]
  },
  {
   "cell_type": "code",
   "execution_count": 7,
   "id": "8667d2b4",
   "metadata": {},
   "outputs": [
    {
     "name": "stdout",
     "output_type": "stream",
     "text": [
      "['An abundance of online info can turn us into e-hypochondriacs. Or, worse, lead us to neglect getting the care we need '\n",
      " 'A plant-based diet that incorporates fish may be the key to preventing colorectal cancers:  '\n",
      " \"It doesn't take much to damage your hearing at a sports bar or nightclub. That's why a billion people are at risk. \"\n",
      " ... 'Ann Romney talks about her experience with MS '\n",
      " \"Make sure your first marathon isn't your last! \"\n",
      " \"Robin Roberts' cancer diagnosis \"]\n"
     ]
    }
   ],
   "source": [
    "print(tweets)"
   ]
  },
  {
   "cell_type": "code",
   "execution_count": 8,
   "id": "db23b2d5",
   "metadata": {},
   "outputs": [],
   "source": [
    "## Create count vectorizer, passing the standard english stop words set as a parameter (removes words such as 'and', 'it' and punctuation, etc.)\n",
    "vectorizer = CountVectorizer(stop_words='english')"
   ]
  },
  {
   "cell_type": "code",
   "execution_count": 9,
   "id": "1184948e",
   "metadata": {},
   "outputs": [
    {
     "data": {
      "text/html": [
       "<style>#sk-container-id-1 {color: black;background-color: white;}#sk-container-id-1 pre{padding: 0;}#sk-container-id-1 div.sk-toggleable {background-color: white;}#sk-container-id-1 label.sk-toggleable__label {cursor: pointer;display: block;width: 100%;margin-bottom: 0;padding: 0.3em;box-sizing: border-box;text-align: center;}#sk-container-id-1 label.sk-toggleable__label-arrow:before {content: \"▸\";float: left;margin-right: 0.25em;color: #696969;}#sk-container-id-1 label.sk-toggleable__label-arrow:hover:before {color: black;}#sk-container-id-1 div.sk-estimator:hover label.sk-toggleable__label-arrow:before {color: black;}#sk-container-id-1 div.sk-toggleable__content {max-height: 0;max-width: 0;overflow: hidden;text-align: left;background-color: #f0f8ff;}#sk-container-id-1 div.sk-toggleable__content pre {margin: 0.2em;color: black;border-radius: 0.25em;background-color: #f0f8ff;}#sk-container-id-1 input.sk-toggleable__control:checked~div.sk-toggleable__content {max-height: 200px;max-width: 100%;overflow: auto;}#sk-container-id-1 input.sk-toggleable__control:checked~label.sk-toggleable__label-arrow:before {content: \"▾\";}#sk-container-id-1 div.sk-estimator input.sk-toggleable__control:checked~label.sk-toggleable__label {background-color: #d4ebff;}#sk-container-id-1 div.sk-label input.sk-toggleable__control:checked~label.sk-toggleable__label {background-color: #d4ebff;}#sk-container-id-1 input.sk-hidden--visually {border: 0;clip: rect(1px 1px 1px 1px);clip: rect(1px, 1px, 1px, 1px);height: 1px;margin: -1px;overflow: hidden;padding: 0;position: absolute;width: 1px;}#sk-container-id-1 div.sk-estimator {font-family: monospace;background-color: #f0f8ff;border: 1px dotted black;border-radius: 0.25em;box-sizing: border-box;margin-bottom: 0.5em;}#sk-container-id-1 div.sk-estimator:hover {background-color: #d4ebff;}#sk-container-id-1 div.sk-parallel-item::after {content: \"\";width: 100%;border-bottom: 1px solid gray;flex-grow: 1;}#sk-container-id-1 div.sk-label:hover label.sk-toggleable__label {background-color: #d4ebff;}#sk-container-id-1 div.sk-serial::before {content: \"\";position: absolute;border-left: 1px solid gray;box-sizing: border-box;top: 0;bottom: 0;left: 50%;z-index: 0;}#sk-container-id-1 div.sk-serial {display: flex;flex-direction: column;align-items: center;background-color: white;padding-right: 0.2em;padding-left: 0.2em;position: relative;}#sk-container-id-1 div.sk-item {position: relative;z-index: 1;}#sk-container-id-1 div.sk-parallel {display: flex;align-items: stretch;justify-content: center;background-color: white;position: relative;}#sk-container-id-1 div.sk-item::before, #sk-container-id-1 div.sk-parallel-item::before {content: \"\";position: absolute;border-left: 1px solid gray;box-sizing: border-box;top: 0;bottom: 0;left: 50%;z-index: -1;}#sk-container-id-1 div.sk-parallel-item {display: flex;flex-direction: column;z-index: 1;position: relative;background-color: white;}#sk-container-id-1 div.sk-parallel-item:first-child::after {align-self: flex-end;width: 50%;}#sk-container-id-1 div.sk-parallel-item:last-child::after {align-self: flex-start;width: 50%;}#sk-container-id-1 div.sk-parallel-item:only-child::after {width: 0;}#sk-container-id-1 div.sk-dashed-wrapped {border: 1px dashed gray;margin: 0 0.4em 0.5em 0.4em;box-sizing: border-box;padding-bottom: 0.4em;background-color: white;}#sk-container-id-1 div.sk-label label {font-family: monospace;font-weight: bold;display: inline-block;line-height: 1.2em;}#sk-container-id-1 div.sk-label-container {text-align: center;}#sk-container-id-1 div.sk-container {/* jupyter's `normalize.less` sets `[hidden] { display: none; }` but bootstrap.min.css set `[hidden] { display: none !important; }` so we also need the `!important` here to be able to override the default hidden behavior on the sphinx rendered scikit-learn.org. See: https://github.com/scikit-learn/scikit-learn/issues/21755 */display: inline-block !important;position: relative;}#sk-container-id-1 div.sk-text-repr-fallback {display: none;}</style><div id=\"sk-container-id-1\" class=\"sk-top-container\"><div class=\"sk-text-repr-fallback\"><pre>CountVectorizer(stop_words=&#x27;english&#x27;)</pre><b>In a Jupyter environment, please rerun this cell to show the HTML representation or trust the notebook. <br />On GitHub, the HTML representation is unable to render, please try loading this page with nbviewer.org.</b></div><div class=\"sk-container\" hidden><div class=\"sk-item\"><div class=\"sk-estimator sk-toggleable\"><input class=\"sk-toggleable__control sk-hidden--visually\" id=\"sk-estimator-id-1\" type=\"checkbox\" checked><label for=\"sk-estimator-id-1\" class=\"sk-toggleable__label sk-toggleable__label-arrow\">CountVectorizer</label><div class=\"sk-toggleable__content\"><pre>CountVectorizer(stop_words=&#x27;english&#x27;)</pre></div></div></div></div></div>"
      ],
      "text/plain": [
       "CountVectorizer(stop_words='english')"
      ]
     },
     "execution_count": 9,
     "metadata": {},
     "output_type": "execute_result"
    }
   ],
   "source": [
    "vectorizer.fit(tweets)"
   ]
  },
  {
   "cell_type": "code",
   "execution_count": 26,
   "id": "9c332948",
   "metadata": {
    "scrolled": false
   },
   "outputs": [],
   "source": [
    "## get array of unique words across all documents\n",
    "names = vectorizer.get_feature_names_out()"
   ]
  },
  {
   "cell_type": "code",
   "execution_count": 27,
   "id": "0f308b02",
   "metadata": {},
   "outputs": [
    {
     "data": {
      "text/plain": [
       "<4045x7554 sparse matrix of type '<class 'numpy.int64'>'\n",
       "\twith 31043 stored elements in Compressed Sparse Row format>"
      ]
     },
     "execution_count": 27,
     "metadata": {},
     "output_type": "execute_result"
    }
   ],
   "source": [
    "features = vectorizer.transform(tweets)\n",
    "features"
   ]
  },
  {
   "cell_type": "code",
   "execution_count": 28,
   "id": "4cdfb675",
   "metadata": {},
   "outputs": [],
   "source": [
    "tweetVectors = features.toarray()"
   ]
  },
  {
   "cell_type": "code",
   "execution_count": 29,
   "id": "fd4d5f58",
   "metadata": {},
   "outputs": [
    {
     "name": "stdout",
     "output_type": "stream",
     "text": [
      "[[0 0 0 ... 0 0 0]\n",
      " [0 0 0 ... 0 0 0]\n",
      " [0 0 0 ... 0 0 0]\n",
      " ...\n",
      " [0 0 0 ... 0 0 0]\n",
      " [0 0 0 ... 0 0 0]\n",
      " [0 0 0 ... 0 0 0]]\n"
     ]
    }
   ],
   "source": [
    "print(tweetVectors)"
   ]
  },
  {
   "cell_type": "code",
   "execution_count": 33,
   "id": "41ac88cb",
   "metadata": {},
   "outputs": [],
   "source": [
    "tweetVectorDataFrame = pd.DataFrame(tweetVectors, columns=names);"
   ]
  },
  {
   "cell_type": "code",
   "execution_count": 35,
   "id": "f580398a",
   "metadata": {},
   "outputs": [],
   "source": [
    "tweetVectorDataFrame.to_csv(r'../outputdata/featurematrix.csv', index=None)"
   ]
  },
  {
   "cell_type": "code",
   "execution_count": 20,
   "id": "d7a5944e",
   "metadata": {},
   "outputs": [
    {
     "data": {
      "text/plain": [
       "array([[1., 0., 0., ..., 0., 0., 0.],\n",
       "       [0., 1., 0., ..., 0., 0., 0.],\n",
       "       [0., 0., 1., ..., 0., 0., 0.],\n",
       "       ...,\n",
       "       [0., 0., 0., ..., 1., 0., 0.],\n",
       "       [0., 0., 0., ..., 0., 1., 0.],\n",
       "       [0., 0., 0., ..., 0., 0., 1.]])"
      ]
     },
     "execution_count": 20,
     "metadata": {},
     "output_type": "execute_result"
    }
   ],
   "source": [
    "cosine_similarity = 1-pairwise_distances(featurearray, metric=\"cosine\")\n",
    "cosine_similarity"
   ]
  },
  {
   "cell_type": "code",
   "execution_count": 39,
   "id": "420b65c0",
   "metadata": {},
   "outputs": [],
   "source": [
    "cosineSimilarityDf = pd.DataFrame(cosine_similarity);"
   ]
  },
  {
   "cell_type": "code",
   "execution_count": 41,
   "id": "c99622e2",
   "metadata": {},
   "outputs": [],
   "source": [
    "cosineSimilarityDf.to_csv(r'../outputdata/cosinesimilarity.csv', index=None, header=None)"
   ]
  },
  {
   "cell_type": "code",
   "execution_count": null,
   "id": "e6d90183",
   "metadata": {},
   "outputs": [],
   "source": []
  }
 ],
 "metadata": {
  "kernelspec": {
   "display_name": "Python 3 (ipykernel)",
   "language": "python",
   "name": "python3"
  },
  "language_info": {
   "codemirror_mode": {
    "name": "ipython",
    "version": 3
   },
   "file_extension": ".py",
   "mimetype": "text/x-python",
   "name": "python",
   "nbconvert_exporter": "python",
   "pygments_lexer": "ipython3",
   "version": "3.11.2"
  }
 },
 "nbformat": 4,
 "nbformat_minor": 5
}
